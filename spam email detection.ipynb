{
 "cells": [
  {
   "cell_type": "code",
   "execution_count": 88,
   "id": "b4682140",
   "metadata": {},
   "outputs": [],
   "source": [
    "import numpy as np\n",
    "import pandas as pd\n",
    "import matplotlib.pyplot as plt\n",
    "from sklearn.model_selection import train_test_split\n",
    "from sklearn.linear_model import LogisticRegression\n",
    "from sklearn.metrics import accuracy_score,confusion_matrix\n",
    "import seaborn as sns"
   ]
  },
  {
   "cell_type": "code",
   "execution_count": 89,
   "id": "4559dce3",
   "metadata": {},
   "outputs": [],
   "source": [
    "mail_data=pd.read_csv('mail_data.csv')"
   ]
  },
  {
   "cell_type": "code",
   "execution_count": 90,
   "id": "c96414f3",
   "metadata": {},
   "outputs": [
    {
     "data": {
      "text/html": [
       "<div>\n",
       "<style scoped>\n",
       "    .dataframe tbody tr th:only-of-type {\n",
       "        vertical-align: middle;\n",
       "    }\n",
       "\n",
       "    .dataframe tbody tr th {\n",
       "        vertical-align: top;\n",
       "    }\n",
       "\n",
       "    .dataframe thead th {\n",
       "        text-align: right;\n",
       "    }\n",
       "</style>\n",
       "<table border=\"1\" class=\"dataframe\">\n",
       "  <thead>\n",
       "    <tr style=\"text-align: right;\">\n",
       "      <th></th>\n",
       "      <th>Category</th>\n",
       "      <th>Message</th>\n",
       "    </tr>\n",
       "  </thead>\n",
       "  <tbody>\n",
       "    <tr>\n",
       "      <th>0</th>\n",
       "      <td>ham</td>\n",
       "      <td>Go until jurong point, crazy.. Available only ...</td>\n",
       "    </tr>\n",
       "    <tr>\n",
       "      <th>1</th>\n",
       "      <td>ham</td>\n",
       "      <td>Ok lar... Joking wif u oni...</td>\n",
       "    </tr>\n",
       "    <tr>\n",
       "      <th>2</th>\n",
       "      <td>spam</td>\n",
       "      <td>Free entry in 2 a wkly comp to win FA Cup fina...</td>\n",
       "    </tr>\n",
       "    <tr>\n",
       "      <th>3</th>\n",
       "      <td>ham</td>\n",
       "      <td>U dun say so early hor... U c already then say...</td>\n",
       "    </tr>\n",
       "    <tr>\n",
       "      <th>4</th>\n",
       "      <td>ham</td>\n",
       "      <td>Nah I don't think he goes to usf, he lives aro...</td>\n",
       "    </tr>\n",
       "  </tbody>\n",
       "</table>\n",
       "</div>"
      ],
      "text/plain": [
       "  Category                                            Message\n",
       "0      ham  Go until jurong point, crazy.. Available only ...\n",
       "1      ham                      Ok lar... Joking wif u oni...\n",
       "2     spam  Free entry in 2 a wkly comp to win FA Cup fina...\n",
       "3      ham  U dun say so early hor... U c already then say...\n",
       "4      ham  Nah I don't think he goes to usf, he lives aro..."
      ]
     },
     "execution_count": 90,
     "metadata": {},
     "output_type": "execute_result"
    }
   ],
   "source": [
    "mail_data.head()"
   ]
  },
  {
   "cell_type": "code",
   "execution_count": 91,
   "id": "885e65eb",
   "metadata": {},
   "outputs": [
    {
     "data": {
      "text/plain": [
       "(5572, 2)"
      ]
     },
     "execution_count": 91,
     "metadata": {},
     "output_type": "execute_result"
    }
   ],
   "source": [
    "mail_data.shape"
   ]
  },
  {
   "cell_type": "code",
   "execution_count": 92,
   "id": "c02e4bfb",
   "metadata": {},
   "outputs": [
    {
     "data": {
      "text/html": [
       "<div>\n",
       "<style scoped>\n",
       "    .dataframe tbody tr th:only-of-type {\n",
       "        vertical-align: middle;\n",
       "    }\n",
       "\n",
       "    .dataframe tbody tr th {\n",
       "        vertical-align: top;\n",
       "    }\n",
       "\n",
       "    .dataframe thead th {\n",
       "        text-align: right;\n",
       "    }\n",
       "</style>\n",
       "<table border=\"1\" class=\"dataframe\">\n",
       "  <thead>\n",
       "    <tr style=\"text-align: right;\">\n",
       "      <th></th>\n",
       "      <th>Category</th>\n",
       "      <th>Message</th>\n",
       "    </tr>\n",
       "  </thead>\n",
       "  <tbody>\n",
       "    <tr>\n",
       "      <th>count</th>\n",
       "      <td>5572</td>\n",
       "      <td>5572</td>\n",
       "    </tr>\n",
       "    <tr>\n",
       "      <th>unique</th>\n",
       "      <td>2</td>\n",
       "      <td>5157</td>\n",
       "    </tr>\n",
       "    <tr>\n",
       "      <th>top</th>\n",
       "      <td>ham</td>\n",
       "      <td>Sorry, I'll call later</td>\n",
       "    </tr>\n",
       "    <tr>\n",
       "      <th>freq</th>\n",
       "      <td>4825</td>\n",
       "      <td>30</td>\n",
       "    </tr>\n",
       "  </tbody>\n",
       "</table>\n",
       "</div>"
      ],
      "text/plain": [
       "       Category                 Message\n",
       "count      5572                    5572\n",
       "unique        2                    5157\n",
       "top         ham  Sorry, I'll call later\n",
       "freq       4825                      30"
      ]
     },
     "execution_count": 92,
     "metadata": {},
     "output_type": "execute_result"
    }
   ],
   "source": [
    "mail_data.describe()"
   ]
  },
  {
   "cell_type": "code",
   "execution_count": 93,
   "id": "8a610d09",
   "metadata": {},
   "outputs": [
    {
     "data": {
      "image/png": "[encoded data removed]",
      "text/plain": [
       "<Figure size 432x432 with 1 Axes>"
      ]
     },
     "metadata": {},
     "output_type": "display_data"
    }
   ],
   "source": [
    "mail_data.Category.value_counts().plot(kind = 'pie', figsize = (6,6))\n",
    "plt.ylabel(\"Spam vs Ham\")\n",
    "plt.legend([\"Ham\", \"Spam\"])\n",
    "plt.show()"
   ]
  },
  {
   "cell_type": "code",
   "execution_count": 94,
   "id": "14f0e8b1",
   "metadata": {},
   "outputs": [],
   "source": [
    "mail_data.replace({'Category':{'spam':0,'ham':1}},inplace=True)"
   ]
  },
  {
   "cell_type": "code",
   "execution_count": 95,
   "id": "7114a5a4",
   "metadata": {},
   "outputs": [
    {
     "name": "stderr",
     "output_type": "stream",
     "text": [
      "C:\\Users\\Raj\\anaconda3\\lib\\site-packages\\seaborn\\_decorators.py:36: FutureWarning: Pass the following variable as a keyword arg: x. From version 0.12, the only valid positional argument will be `data`, and passing other arguments without an explicit keyword will result in an error or misinterpretation.\n",
      "  warnings.warn(\n"
     ]
    },
    {
     "data": {
      "text/plain": [
       "<AxesSubplot:xlabel='Category', ylabel='count'>"
      ]
     },
     "execution_count": 95,
     "metadata": {},
     "output_type": "execute_result"
    },
    {
     "data": {
      "image/png": "[encoded data removed]",
      "text/plain": [
       "<Figure size 432x288 with 1 Axes>"
      ]
     },
     "metadata": {
      "needs_background": "light"
     },
     "output_type": "display_data"
    }
   ],
   "source": [
    "sns.countplot('Category',data=mail_data)"
   ]
  },
  {
   "cell_type": "code",
   "execution_count": 96,
   "id": "00f848ef",
   "metadata": {},
   "outputs": [],
   "source": [
    "import re\n",
    "import nltk\n",
    "from nltk.corpus import stopwords\n",
    "all_stopwords = stopwords.words('english')   # this is a list of all_stopwords\n",
    "# print(all_stopwords)\n",
    "from nltk.stem.porter import PorterStemmer\n",
    "corpus=[]\n",
    "for i in range(0,5572):\n",
    "    review = re.sub('[^a-zA-Z0-9]', ' ', mail_data['Message'][i])  # The sub() function replaces the matches with the text of your choice\n",
    "# for example if sentence is \"raj is a good34..@@@ boy\" then the sub will replace all the number and sign with spaces. \n",
    "# then output will be raj is a good34        boy\" full of spaces . \n",
    "#     now converting the review in small character \n",
    "    review=review.lower()\n",
    "#     now splitting the every word from a sentence a putting them is a list \n",
    "    review=review.split()\n",
    "#     print(review)  this will give output as ['wow','loved','this','place']\n",
    "    ps = PorterStemmer()\n",
    "    review = [ps.stem(word) for word in review if not word in set(all_stopwords)]\n",
    "#     print(review) this will remove the all stopwords from the sentence \n",
    "    review = ' '.join(review)\n",
    "#     print(review)  the above line will join the list in sentence with all the stopwords removed .\n",
    "    corpus.append(review)"
   ]
  },
  {
   "cell_type": "code",
   "execution_count": 97,
   "id": "ae80125a",
   "metadata": {},
   "outputs": [
    {
     "name": "stdout",
     "output_type": "stream",
     "text": [
      "(5572,)\n",
      "0       go jurong point crazi avail bugi n great world...\n",
      "1                                   ok lar joke wif u oni\n",
      "2       free entri 2 wkli comp win fa cup final tkt 21...\n",
      "3                     u dun say earli hor u c alreadi say\n",
      "4                    nah think goe usf live around though\n",
      "                              ...                        \n",
      "5567    2nd time tri 2 contact u u 750 pound prize 2 c...\n",
      "5568                                b go esplanad fr home\n",
      "5569                                    piti mood suggest\n",
      "5570    guy bitch act like interest buy someth els nex...\n",
      "5571                                       rofl true name\n",
      "Name: Message, Length: 5572, dtype: object\n"
     ]
    }
   ],
   "source": [
    "# print(corpus)\n",
    "mail_data['Message']=corpus\n",
    "x=mail_data['Message']\n",
    "y=mail_data['Category']\n",
    "print(x.shape)\n",
    "print(x)"
   ]
  },
  {
   "cell_type": "code",
   "execution_count": 98,
   "id": "a49007ef",
   "metadata": {},
   "outputs": [],
   "source": [
    "X_train, X_test, Y_train, Y_test = train_test_split(x, y, test_size=0.2, random_state=3)\n",
    "# print(x_train.shape)\n",
    "# print(x_test.shape)"
   ]
  },
  {
   "cell_type": "code",
   "execution_count": 99,
   "id": "8443b8cf",
   "metadata": {},
   "outputs": [
    {
     "name": "stdout",
     "output_type": "stream",
     "text": [
      "  (0, 5984)\t0.20971550160734512\n",
      "  (0, 4698)\t0.22093555465286022\n",
      "  (0, 4565)\t0.20214311184190892\n",
      "  (0, 3841)\t0.18519877575272528\n",
      "  (0, 1460)\t0.2585752266509729\n",
      "  (0, 1453)\t0.12682736880249731\n",
      "  (0, 1334)\t0.3238629389562452\n",
      "  (0, 1294)\t0.2562107711016661\n",
      "  (0, 1054)\t0.24987227738071655\n",
      "  (0, 1017)\t0.2856090562808515\n",
      "  (0, 404)\t0.2427614500666094\n",
      "  (0, 305)\t0.24442134193024162\n",
      "  (0, 20)\t0.31264288591073003\n",
      "  (0, 14)\t0.27318886017603145\n",
      "  (0, 9)\t0.2908169904969809\n",
      "  (0, 1)\t0.2427614500666094\n",
      "  (1, 6374)\t0.31153123781160325\n",
      "  (1, 5815)\t0.4416819017428561\n",
      "  (1, 5690)\t0.2937896397734084\n",
      "  (1, 5617)\t0.2719006719090556\n",
      "  (1, 5372)\t0.3535369671090668\n",
      "  (1, 4155)\t0.23882116013149374\n",
      "  (1, 3866)\t0.35165636090830904\n",
      "  (1, 3089)\t0.49187084474594994\n",
      "  (2, 6231)\t0.22490921341614778\n",
      "  :\t:\n",
      "  (1111, 2866)\t0.4305196269337183\n",
      "  (1111, 2177)\t0.38847384606857416\n",
      "  (1111, 886)\t0.34073288007494573\n",
      "  (1112, 6116)\t0.30388989908506797\n",
      "  (1112, 5852)\t0.30589608197895446\n",
      "  (1112, 5441)\t0.2833125235511708\n",
      "  (1112, 5291)\t0.36644935982021987\n",
      "  (1112, 5138)\t0.31245843638687637\n",
      "  (1112, 5003)\t0.2093951567013787\n",
      "  (1112, 4936)\t0.3148562122402356\n",
      "  (1112, 4413)\t0.23776712194516478\n",
      "  (1112, 3662)\t0.30589608197895446\n",
      "  (1112, 1559)\t0.2739231795887978\n",
      "  (1112, 1453)\t0.1598111858111693\n",
      "  (1112, 1074)\t0.32899424884068174\n",
      "  (1113, 5249)\t0.3808188630910766\n",
      "  (1113, 3580)\t0.29741917439543464\n",
      "  (1113, 3545)\t0.37683997900510763\n",
      "  (1113, 3370)\t0.2829650825367931\n",
      "  (1113, 2911)\t0.338253565967876\n",
      "  (1113, 2771)\t0.34444533569733315\n",
      "  (1113, 2536)\t0.55801716490687\n",
      "  (1114, 3992)\t0.43586411532952435\n",
      "  (1114, 3541)\t0.7332061537352209\n",
      "  (1114, 947)\t0.5219494315475541\n"
     ]
    }
   ],
   "source": [
    "# transform the text data to feature vectors that can be used as input to the Logistic regression\n",
    "\n",
    "feature_extraction = TfidfVectorizer(min_df = 1)\n",
    "\n",
    "X_train_features = feature_extraction.fit_transform(X_train)\n",
    "X_test_features = feature_extraction.transform(X_test)\n",
    "# print(X_train_features)\n",
    "print(X_test_features)\n",
    "# convert Y_train and Y_test values as integers\n",
    "\n",
    "# Y_train = Y_train.astype('int')\n",
    "# Y_test = Y_test.astype('int')"
   ]
  },
  {
   "cell_type": "code",
   "execution_count": 100,
   "id": "81944382",
   "metadata": {},
   "outputs": [
    {
     "name": "stdout",
     "output_type": "stream",
     "text": [
      "Accuracy on training data :  0.9694862014808167\n",
      "Accuracy on test data :  0.9713004484304932\n"
     ]
    }
   ],
   "source": [
    "model = LogisticRegression()\n",
    "# training the Logistic Regression model with the training data\n",
    "model.fit(X_train_features, Y_train)\n",
    "# prediction on training data\n",
    "\n",
    "prediction_on_training_data = model.predict(X_train_features)\n",
    "accuracy_on_training_data = accuracy_score(Y_train, prediction_on_training_data)\n",
    "print('Accuracy on training data : ', accuracy_on_training_data)\n",
    "# prediction on test data\n",
    "\n",
    "prediction_on_test_data = model.predict(X_test_features)\n",
    "accuracy_on_test_data = accuracy_score(Y_test, prediction_on_test_data)\n",
    "print('Accuracy on test data : ', accuracy_on_test_data)"
   ]
  },
  {
   "cell_type": "code",
   "execution_count": 101,
   "id": "3a980e11",
   "metadata": {},
   "outputs": [
    {
     "name": "stdout",
     "output_type": "stream",
     "text": [
      "[1]\n",
      "Ham mail\n"
     ]
    }
   ],
   "source": [
    "input_mail = [\"U dun say so early h\"]\n",
    "\n",
    "# convert text to feature vectors\n",
    "input_data_features = feature_extraction.transform(input_mail)\n",
    "\n",
    "# making prediction\n",
    "\n",
    "prediction = model.predict(input_data_features)\n",
    "print(prediction)\n",
    "\n",
    "\n",
    "if (prediction[0]==1):\n",
    "  print('Ham mail')\n",
    "\n",
    "else:\n",
    "  print('Spam mail')"
   ]
  }
 ],
 "metadata": {
  "kernelspec": {
   "display_name": "Python 3",
   "language": "python",
   "name": "python3"
  },
  "language_info": {
   "codemirror_mode": {
    "name": "ipython",
    "version": 3
   },
   "file_extension": ".py",
   "mimetype": "text/x-python",
   "name": "python",
   "nbconvert_exporter": "python",
   "pygments_lexer": "ipython3",
   "version": "3.8.8"
  }
 },
 "nbformat": 4,
 "nbformat_minor": 5
}
